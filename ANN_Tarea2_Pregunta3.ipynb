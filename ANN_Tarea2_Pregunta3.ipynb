{
 "cells": [
  {
   "cell_type": "markdown",
   "metadata": {},
   "source": [
    "<img src=\"http://www.exalumnos.usm.cl/wp-content/uploads/2015/06/Isotipo-Negro.gif\" title=\"Title text\" width=\"20%\" height=\"20%\" />\n",
    "\n",
    "\n",
    "<hr style=\"height:2px;border:none\"/>\n",
    "<h1 align='center'> INF-477 Redes Neuronales Artificiales I-2018 </h1>\n",
    "\n",
    "<H3 align='center'> Tarea 2 - Pregunta 3 - Redes Convolucionales y sus aplicaciones </H3>\n",
    "<H3 align='center'>  Jorge Portilla - John Rodriguez </H3>\n",
    "\n",
    "<hr style=\"height:2px;border:none\"/>"
   ]
  },
  {
   "cell_type": "markdown",
   "metadata": {},
   "source": [
    "<a id=\"cuarto\"></a>\n",
    "# CNN sobre texto\n",
    "\n",
    "> Cuando oimos sobre redes neuronales convolucionales (CNN) normalmente pensamos en visión artificial. Las CNN fueron responsables de los principales avances en la clasificación de imágenes y son el núcleo de la mayoría de los sistemas de *Computer Vision* en la actualidad, desde el etiquetado automático de fotos de Facebook hasta los autos que conducen por sí mismos.\n",
    "\n",
    "> Más recientemente, también hemos empezado a aplicar CNN a problemas de procesamiento del lenguaje natural (NLP) y hemos obtenido resultados interesantes. Como sabemos, las redes convolucionales tienen importantes ventajas como invarianza a rotaciones y traslaciones así como la conectividad local (características de nivel inferior en una representación de nivel superior), además de lo que las hace fuertemente ventajosas, el **compartir** parámetros.\n",
    "\n",
    "\n",
    "> **¿Cómo se aplica esto a NLP?**  \n",
    "En esta experimentación apicaremos una red CNN al dataset  __[Adzuna](https://www.kaggle.com/c/job-salary-prediction)__ que contiene cientos de miles de registros que en su mayoría corresponden a texto no estructurado versus sólo unos pocos estructurados. Los registros pueden estar en varios formatos diferentes debido a los cientos de diferentes fuentes de registros, los cuales corresponden a anuncios de empleadores en busca de trabajadores.  \n",
    "Es decir, cada fila es un anuncio que, en estricto rigor, representa una sentencia típicamente trabajada como vectores de word embeddings como **word2vec** o **GloVe**. Así, para una frase de 10 palabras bajo representaciones de *embeddings* utilizando 100 dimensiones tendríamos una matriz de 10 × 100 como entrada, lo que simularía nuestra \"imagen\".\n",
    "\n",
    "> Su tarea es entonces, predecir el salario (valor continuo) de un determinado anuncio en base al texto indicado en éste. Igualmente puede valerse de otros atributos del anuncio como por ejemplo la ubicación, tipo de contrato, etc. \n",
    "\n",
    "> Intente resolver el problema experimentando con las ayudas que se entregan en el código y lo aprendido hasta ahora en el curso. Se espera que llegue a un MAE menor a 7000 en el conjunto de pruebas. No olvide documentar todo lo experimentando en este Informe Jupyter así como el argumento de sus decisiones."
   ]
  },
  {
   "cell_type": "markdown",
   "metadata": {},
   "source": [
    "Lo primero que se hace es cargar las librerías y modulos necesarios para comenzar a experimentar"
   ]
  },
  {
   "cell_type": "code",
   "execution_count": 1,
   "metadata": {},
   "outputs": [
    {
     "name": "stderr",
     "output_type": "stream",
     "text": [
      "Using TensorFlow backend.\n"
     ]
    }
   ],
   "source": [
    "#Librerías y modulos\n",
    "from sklearn.metrics import mean_absolute_error\n",
    "import pandas as pd\n",
    "import numpy as np\n",
    "import re, os, sys\n",
    "import keras\n",
    "import matplotlib.pyplot as plt\n",
    "import math\n",
    "from nltk.corpus import stopwords\n",
    "stoplist = stopwords.words('english')\n",
    "from nltk import WordNetLemmatizer\n",
    "from nltk import WhitespaceTokenizer\n",
    "from nltk.stem.porter import PorterStemmer\n",
    "from nltk.stem import WordNetLemmatizer"
   ]
  },
  {
   "cell_type": "markdown",
   "metadata": {},
   "source": [
    "La función *TestCallback* por primera vez introducidad en la pregunta 1 de la presente tarea sirve para observar el error y el accuracy en el conjunto de testing al momento de realizar el entrenamiento de una red."
   ]
  },
  {
   "cell_type": "code",
   "execution_count": 26,
   "metadata": {},
   "outputs": [],
   "source": [
    "class TestCallback(keras.callbacks.Callback):\n",
    "    def __init__(self, test_data):\n",
    "        self.test_data = test_data\n",
    "\n",
    "    def on_epoch_end(self, epoch, logs={}):\n",
    "        x, y = self.test_data\n",
    "        loss, acc = self.model.evaluate(x, y, verbose=0)\n",
    "        test_loss.append(loss)\n",
    "        test_acc.append(acc)\n",
    "        print('\\nTesting loss: {}, acc: {}\\n'.format(loss, acc))"
   ]
  },
  {
   "cell_type": "markdown",
   "metadata": {},
   "source": [
    "Se verifica si se tiene descargados los stepwords y wornet en el entorno local."
   ]
  },
  {
   "cell_type": "code",
   "execution_count": 2,
   "metadata": {},
   "outputs": [
    {
     "name": "stdout",
     "output_type": "stream",
     "text": [
      "[nltk_data] Error loading stopwords: <urlopen error [Errno -2] Name or\n",
      "[nltk_data]     service not known>\n",
      "[nltk_data] Error loading wordnet: <urlopen error [Errno -2] Name or\n",
      "[nltk_data]     service not known>\n"
     ]
    },
    {
     "data": {
      "text/plain": [
       "False"
      ]
     },
     "execution_count": 2,
     "metadata": {},
     "output_type": "execute_result"
    }
   ],
   "source": [
    "import nltk\n",
    "nltk.download('stopwords')\n",
    "nltk.download('wordnet')"
   ]
  },
  {
   "cell_type": "markdown",
   "metadata": {},
   "source": [
    "Primeras filas de la data a analizar."
   ]
  },
  {
   "cell_type": "code",
   "execution_count": 3,
   "metadata": {
    "scrolled": false
   },
   "outputs": [
    {
     "data": {
      "text/html": [
       "<div>\n",
       "<style scoped>\n",
       "    .dataframe tbody tr th:only-of-type {\n",
       "        vertical-align: middle;\n",
       "    }\n",
       "\n",
       "    .dataframe tbody tr th {\n",
       "        vertical-align: top;\n",
       "    }\n",
       "\n",
       "    .dataframe thead th {\n",
       "        text-align: right;\n",
       "    }\n",
       "</style>\n",
       "<table border=\"1\" class=\"dataframe\">\n",
       "  <thead>\n",
       "    <tr style=\"text-align: right;\">\n",
       "      <th></th>\n",
       "      <th>Title</th>\n",
       "      <th>FullDescription</th>\n",
       "      <th>LocationRaw</th>\n",
       "      <th>LocationNormalized</th>\n",
       "      <th>ContractType</th>\n",
       "      <th>ContractTime</th>\n",
       "      <th>Company</th>\n",
       "      <th>Category</th>\n",
       "      <th>SalaryRaw</th>\n",
       "      <th>SalaryNormalized</th>\n",
       "      <th>SourceName</th>\n",
       "    </tr>\n",
       "  </thead>\n",
       "  <tbody>\n",
       "    <tr>\n",
       "      <th>0</th>\n",
       "      <td>Engineering Systems Analyst</td>\n",
       "      <td>Engineering Systems Analyst Dorking Surrey Sal...</td>\n",
       "      <td>Dorking, Surrey, Surrey</td>\n",
       "      <td>Dorking</td>\n",
       "      <td>NaN</td>\n",
       "      <td>permanent</td>\n",
       "      <td>Gregory Martin International</td>\n",
       "      <td>Engineering Jobs</td>\n",
       "      <td>20000 - 30000/annum 20-30K</td>\n",
       "      <td>25000</td>\n",
       "      <td>cv-library.co.uk</td>\n",
       "    </tr>\n",
       "    <tr>\n",
       "      <th>1</th>\n",
       "      <td>Stress Engineer Glasgow</td>\n",
       "      <td>Stress Engineer Glasgow Salary **** to **** We...</td>\n",
       "      <td>Glasgow, Scotland, Scotland</td>\n",
       "      <td>Glasgow</td>\n",
       "      <td>NaN</td>\n",
       "      <td>permanent</td>\n",
       "      <td>Gregory Martin International</td>\n",
       "      <td>Engineering Jobs</td>\n",
       "      <td>25000 - 35000/annum 25-35K</td>\n",
       "      <td>30000</td>\n",
       "      <td>cv-library.co.uk</td>\n",
       "    </tr>\n",
       "    <tr>\n",
       "      <th>2</th>\n",
       "      <td>Modelling and simulation analyst</td>\n",
       "      <td>Mathematical Modeller / Simulation Analyst / O...</td>\n",
       "      <td>Hampshire, South East, South East</td>\n",
       "      <td>Hampshire</td>\n",
       "      <td>NaN</td>\n",
       "      <td>permanent</td>\n",
       "      <td>Gregory Martin International</td>\n",
       "      <td>Engineering Jobs</td>\n",
       "      <td>20000 - 40000/annum 20-40K</td>\n",
       "      <td>30000</td>\n",
       "      <td>cv-library.co.uk</td>\n",
       "    </tr>\n",
       "    <tr>\n",
       "      <th>3</th>\n",
       "      <td>Engineering Systems Analyst / Mathematical Mod...</td>\n",
       "      <td>Engineering Systems Analyst / Mathematical Mod...</td>\n",
       "      <td>Surrey, South East, South East</td>\n",
       "      <td>Surrey</td>\n",
       "      <td>NaN</td>\n",
       "      <td>permanent</td>\n",
       "      <td>Gregory Martin International</td>\n",
       "      <td>Engineering Jobs</td>\n",
       "      <td>25000 - 30000/annum 25K-30K negotiable</td>\n",
       "      <td>27500</td>\n",
       "      <td>cv-library.co.uk</td>\n",
       "    </tr>\n",
       "    <tr>\n",
       "      <th>4</th>\n",
       "      <td>Pioneer, Miser Engineering Systems Analyst</td>\n",
       "      <td>Pioneer, Miser  Engineering Systems Analyst Do...</td>\n",
       "      <td>Surrey, South East, South East</td>\n",
       "      <td>Surrey</td>\n",
       "      <td>NaN</td>\n",
       "      <td>permanent</td>\n",
       "      <td>Gregory Martin International</td>\n",
       "      <td>Engineering Jobs</td>\n",
       "      <td>20000 - 30000/annum 20-30K</td>\n",
       "      <td>25000</td>\n",
       "      <td>cv-library.co.uk</td>\n",
       "    </tr>\n",
       "  </tbody>\n",
       "</table>\n",
       "</div>"
      ],
      "text/plain": [
       "                                               Title  \\\n",
       "0                        Engineering Systems Analyst   \n",
       "1                            Stress Engineer Glasgow   \n",
       "2                   Modelling and simulation analyst   \n",
       "3  Engineering Systems Analyst / Mathematical Mod...   \n",
       "4         Pioneer, Miser Engineering Systems Analyst   \n",
       "\n",
       "                                     FullDescription  \\\n",
       "0  Engineering Systems Analyst Dorking Surrey Sal...   \n",
       "1  Stress Engineer Glasgow Salary **** to **** We...   \n",
       "2  Mathematical Modeller / Simulation Analyst / O...   \n",
       "3  Engineering Systems Analyst / Mathematical Mod...   \n",
       "4  Pioneer, Miser  Engineering Systems Analyst Do...   \n",
       "\n",
       "                         LocationRaw LocationNormalized ContractType  \\\n",
       "0            Dorking, Surrey, Surrey            Dorking          NaN   \n",
       "1        Glasgow, Scotland, Scotland            Glasgow          NaN   \n",
       "2  Hampshire, South East, South East          Hampshire          NaN   \n",
       "3     Surrey, South East, South East             Surrey          NaN   \n",
       "4     Surrey, South East, South East             Surrey          NaN   \n",
       "\n",
       "  ContractTime                       Company          Category  \\\n",
       "0    permanent  Gregory Martin International  Engineering Jobs   \n",
       "1    permanent  Gregory Martin International  Engineering Jobs   \n",
       "2    permanent  Gregory Martin International  Engineering Jobs   \n",
       "3    permanent  Gregory Martin International  Engineering Jobs   \n",
       "4    permanent  Gregory Martin International  Engineering Jobs   \n",
       "\n",
       "                                SalaryRaw  SalaryNormalized        SourceName  \n",
       "0              20000 - 30000/annum 20-30K             25000  cv-library.co.uk  \n",
       "1              25000 - 35000/annum 25-35K             30000  cv-library.co.uk  \n",
       "2              20000 - 40000/annum 20-40K             30000  cv-library.co.uk  \n",
       "3  25000 - 30000/annum 25K-30K negotiable             27500  cv-library.co.uk  \n",
       "4              20000 - 30000/annum 20-30K             25000  cv-library.co.uk  "
      ]
     },
     "execution_count": 3,
     "metadata": {},
     "output_type": "execute_result"
    }
   ],
   "source": [
    "df = pd.read_csv(\"Train_rev1.csv\")\n",
    "df.pop(\"Id\")\n",
    "df.head()"
   ]
  },
  {
   "cell_type": "markdown",
   "metadata": {},
   "source": [
    "La función pre_preprocesar se encarga de limpiar los textos del dataframe, quitando caracteres irrelevantes y eliminando stopwords. A su vez, utlizamos el *Lemmatizer* de wordnet para agrupar palabras que tienen relación entre si, y de esta forma disminuir la cantidad de ellas en nuestro diccionario a formar. Se prefiere utilizar un *Lemmatizer* por sobre un *Stemmer* debido a que este último solo corta las palabras para poder agruparlas, lo que podría causar perdida de significado e información. Las columnas escogidas para el entrenamiento son: **Title, FullDescription, LocationNormalized, ContractTime, Company y Category**, pues eran las que contenían información más relevante a nuestro aprecer.\n",
    "\n",
    "El dataframe resultante es guardado en el archivo *pre_processed.csv*"
   ]
  },
  {
   "cell_type": "code",
   "execution_count": 31,
   "metadata": {},
   "outputs": [
    {
     "name": "stdout",
     "output_type": "stream",
     "text": [
      "Title\n",
      "FullDescription\n",
      "LocationNormalized\n",
      "ContractTime\n",
      "Company\n",
      "Category\n",
      "100000\r"
     ]
    }
   ],
   "source": [
    "def pre_procesar(df, cols, target):\n",
    "    #preprocesar texto de los anuncios\n",
    "    proces = {target: list(df[target].values)}\n",
    "    for col in cols:\n",
    "        proces[col] = []\n",
    "        cont = df[col].size\n",
    "        print(col)\n",
    "        for s in df[col]:\n",
    "            print(cont, end=\"\\r\")\n",
    "            cont -= 1\n",
    "            if isinstance(s, str):\n",
    "                s = s.lower()\n",
    "                s = re.sub(r'[^\\w]', ' ', s)\n",
    "                s = re.sub(r'\\b[a-z]\\b', ' ', s)\n",
    "                s = re.sub(r'\\b[a-z][a-z]\\b', ' ', s)\n",
    "                s = re.sub(r'\\b[0-9]\\b', ' ',  s)\n",
    "                s = re.sub(r'\\b[0-9][0-9]\\b', ' ', s)\n",
    "                s = re.sub(r'\\b[0-9][0-9][0-9]\\b', ' ', s)\n",
    "                s = re.sub(r'[^\\w.]', ' ', s)\n",
    "                s = list(s.split())\n",
    "                s = [word for word in s if word not in stopwords.words('english')]\n",
    "                s = [WordNetLemmatizer().lemmatize(word) for word in s]\n",
    "                #s = [PorterStemmer().stem(word) for word in s] Antes use este stemmer\n",
    "                s = ' '.join(s)\n",
    "            proces[col].append(s)\n",
    "    return pd.DataFrame(proces)\n",
    "    \n",
    "df_proces = pre_procesar(df, [\"Title\", \"FullDescription\", \"LocationNormalized\", \"ContractTime\", \"Company\", \"Category\"], \"SalaryNormalized\")\n",
    "df_proces.to_csv(\"pre_processed.csv\")"
   ]
  },
  {
   "cell_type": "markdown",
   "metadata": {},
   "source": [
    "Función para reemplazar nan por string vacío en algún dataframe."
   ]
  },
  {
   "cell_type": "code",
   "execution_count": 3,
   "metadata": {},
   "outputs": [],
   "source": [
    "def delete_nan(df):\n",
    "    cols = df.columns\n",
    "    for col in cols:\n",
    "        for row in range(df.shape[0]):\n",
    "            if pd.isna(df.at[row, col]):\n",
    "                df.at[row, col] = \"\""
   ]
  },
  {
   "cell_type": "markdown",
   "metadata": {},
   "source": [
    "Se cargan los datos preprocesados y se eliminan sus nans."
   ]
  },
  {
   "cell_type": "code",
   "execution_count": 4,
   "metadata": {},
   "outputs": [],
   "source": [
    "df_loaded = pd.read_csv(\"pre_processed.csv\").drop(\"Unnamed: 0\", axis = 1)\n",
    "delete_nan(df_loaded)"
   ]
  },
  {
   "cell_type": "markdown",
   "metadata": {},
   "source": [
    "Se visualizan las 5 primeras filas de la data preprocesada."
   ]
  },
  {
   "cell_type": "code",
   "execution_count": 14,
   "metadata": {
    "scrolled": true
   },
   "outputs": [
    {
     "data": {
      "text/html": [
       "<div>\n",
       "<style scoped>\n",
       "    .dataframe tbody tr th:only-of-type {\n",
       "        vertical-align: middle;\n",
       "    }\n",
       "\n",
       "    .dataframe tbody tr th {\n",
       "        vertical-align: top;\n",
       "    }\n",
       "\n",
       "    .dataframe thead th {\n",
       "        text-align: right;\n",
       "    }\n",
       "</style>\n",
       "<table border=\"1\" class=\"dataframe\">\n",
       "  <thead>\n",
       "    <tr style=\"text-align: right;\">\n",
       "      <th></th>\n",
       "      <th>SalaryNormalized</th>\n",
       "      <th>Title</th>\n",
       "      <th>FullDescription</th>\n",
       "      <th>LocationNormalized</th>\n",
       "      <th>ContractTime</th>\n",
       "      <th>Company</th>\n",
       "      <th>Category</th>\n",
       "    </tr>\n",
       "  </thead>\n",
       "  <tbody>\n",
       "    <tr>\n",
       "      <th>0</th>\n",
       "      <td>25000</td>\n",
       "      <td>engineering system analyst</td>\n",
       "      <td>engineering system analyst dorking surrey sala...</td>\n",
       "      <td>dorking</td>\n",
       "      <td>permanent</td>\n",
       "      <td>gregory martin international</td>\n",
       "      <td>engineering job</td>\n",
       "    </tr>\n",
       "    <tr>\n",
       "      <th>1</th>\n",
       "      <td>30000</td>\n",
       "      <td>stress engineer glasgow</td>\n",
       "      <td>stress engineer glasgow salary currently looki...</td>\n",
       "      <td>glasgow</td>\n",
       "      <td>permanent</td>\n",
       "      <td>gregory martin international</td>\n",
       "      <td>engineering job</td>\n",
       "    </tr>\n",
       "    <tr>\n",
       "      <th>2</th>\n",
       "      <td>30000</td>\n",
       "      <td>modelling simulation analyst</td>\n",
       "      <td>mathematical modeller simulation analyst opera...</td>\n",
       "      <td>hampshire</td>\n",
       "      <td>permanent</td>\n",
       "      <td>gregory martin international</td>\n",
       "      <td>engineering job</td>\n",
       "    </tr>\n",
       "    <tr>\n",
       "      <th>3</th>\n",
       "      <td>27500</td>\n",
       "      <td>engineering system analyst mathematical modeller</td>\n",
       "      <td>engineering system analyst mathematical modell...</td>\n",
       "      <td>surrey</td>\n",
       "      <td>permanent</td>\n",
       "      <td>gregory martin international</td>\n",
       "      <td>engineering job</td>\n",
       "    </tr>\n",
       "    <tr>\n",
       "      <th>4</th>\n",
       "      <td>25000</td>\n",
       "      <td>pioneer miser engineering system analyst</td>\n",
       "      <td>pioneer miser engineering system analyst dorki...</td>\n",
       "      <td>surrey</td>\n",
       "      <td>permanent</td>\n",
       "      <td>gregory martin international</td>\n",
       "      <td>engineering job</td>\n",
       "    </tr>\n",
       "  </tbody>\n",
       "</table>\n",
       "</div>"
      ],
      "text/plain": [
       "   SalaryNormalized                                             Title  \\\n",
       "0             25000                        engineering system analyst   \n",
       "1             30000                           stress engineer glasgow   \n",
       "2             30000                      modelling simulation analyst   \n",
       "3             27500  engineering system analyst mathematical modeller   \n",
       "4             25000          pioneer miser engineering system analyst   \n",
       "\n",
       "                                     FullDescription LocationNormalized  \\\n",
       "0  engineering system analyst dorking surrey sala...            dorking   \n",
       "1  stress engineer glasgow salary currently looki...            glasgow   \n",
       "2  mathematical modeller simulation analyst opera...          hampshire   \n",
       "3  engineering system analyst mathematical modell...             surrey   \n",
       "4  pioneer miser engineering system analyst dorki...             surrey   \n",
       "\n",
       "  ContractTime                       Company         Category  \n",
       "0    permanent  gregory martin international  engineering job  \n",
       "1    permanent  gregory martin international  engineering job  \n",
       "2    permanent  gregory martin international  engineering job  \n",
       "3    permanent  gregory martin international  engineering job  \n",
       "4    permanent  gregory martin international  engineering job  "
      ]
     },
     "execution_count": 14,
     "metadata": {},
     "output_type": "execute_result"
    }
   ],
   "source": [
    "df_loaded.head()"
   ]
  },
  {
   "cell_type": "markdown",
   "metadata": {},
   "source": [
    "Para poder realizar el entrenamiento, se combinaran todas las columnas escogidas para entrenar. Por cada fila, se uniran los correspondientes textos de cada columna, formando un solo valor.\n",
    "\n",
    "A esta nueva columna se le llama **AllColumns**."
   ]
  },
  {
   "cell_type": "code",
   "execution_count": 6,
   "metadata": {},
   "outputs": [],
   "source": [
    "def join_columns(df, cols, target):\n",
    "    new_df = {target: list(df[target].values)}\n",
    "    new_col = []\n",
    "    for row in range(df.shape[0]):\n",
    "        data = []\n",
    "        for col in cols:\n",
    "            data.append(str(df.at[row, col]))\n",
    "        new_col.append(' '.join(data))\n",
    "    new_df[\"AllColumns\"] = new_col\n",
    "    return pd.DataFrame(new_df)"
   ]
  },
  {
   "cell_type": "code",
   "execution_count": 7,
   "metadata": {},
   "outputs": [],
   "source": [
    "df_preprocess = join_columns(df_loaded, [\"Title\", \"FullDescription\", \"LocationNormalized\", \"ContractTime\", \"Company\", \"Category\"], \"SalaryNormalized\")"
   ]
  },
  {
   "cell_type": "markdown",
   "metadata": {},
   "source": [
    "Visualizamos la versión final de la data preprocesada."
   ]
  },
  {
   "cell_type": "code",
   "execution_count": 15,
   "metadata": {},
   "outputs": [
    {
     "data": {
      "text/html": [
       "<div>\n",
       "<style scoped>\n",
       "    .dataframe tbody tr th:only-of-type {\n",
       "        vertical-align: middle;\n",
       "    }\n",
       "\n",
       "    .dataframe tbody tr th {\n",
       "        vertical-align: top;\n",
       "    }\n",
       "\n",
       "    .dataframe thead th {\n",
       "        text-align: right;\n",
       "    }\n",
       "</style>\n",
       "<table border=\"1\" class=\"dataframe\">\n",
       "  <thead>\n",
       "    <tr style=\"text-align: right;\">\n",
       "      <th></th>\n",
       "      <th>SalaryNormalized</th>\n",
       "      <th>AllColumns</th>\n",
       "    </tr>\n",
       "  </thead>\n",
       "  <tbody>\n",
       "    <tr>\n",
       "      <th>0</th>\n",
       "      <td>25000</td>\n",
       "      <td>engineering system analyst engineering system ...</td>\n",
       "    </tr>\n",
       "    <tr>\n",
       "      <th>1</th>\n",
       "      <td>30000</td>\n",
       "      <td>stress engineer glasgow stress engineer glasgo...</td>\n",
       "    </tr>\n",
       "    <tr>\n",
       "      <th>2</th>\n",
       "      <td>30000</td>\n",
       "      <td>modelling simulation analyst mathematical mode...</td>\n",
       "    </tr>\n",
       "    <tr>\n",
       "      <th>3</th>\n",
       "      <td>27500</td>\n",
       "      <td>engineering system analyst mathematical modell...</td>\n",
       "    </tr>\n",
       "    <tr>\n",
       "      <th>4</th>\n",
       "      <td>25000</td>\n",
       "      <td>pioneer miser engineering system analyst pione...</td>\n",
       "    </tr>\n",
       "  </tbody>\n",
       "</table>\n",
       "</div>"
      ],
      "text/plain": [
       "   SalaryNormalized                                         AllColumns\n",
       "0             25000  engineering system analyst engineering system ...\n",
       "1             30000  stress engineer glasgow stress engineer glasgo...\n",
       "2             30000  modelling simulation analyst mathematical mode...\n",
       "3             27500  engineering system analyst mathematical modell...\n",
       "4             25000  pioneer miser engineering system analyst pione..."
      ]
     },
     "execution_count": 15,
     "metadata": {},
     "output_type": "execute_result"
    }
   ],
   "source": [
    "df_preprocess.head()"
   ]
  },
  {
   "cell_type": "markdown",
   "metadata": {},
   "source": [
    "Separamos el dataframe en entrenamiento (60%), validación (25%)  y pruebas (%15)."
   ]
  },
  {
   "cell_type": "code",
   "execution_count": 11,
   "metadata": {},
   "outputs": [],
   "source": [
    "df_train = df_preprocess[:int(0.6*df_preprocess.shape[0])] #60%\n",
    "df_val = df_preprocess[int(0.6*df_preprocess.shape[0]):int(0.85*df_preprocess.shape[0])]  #25%\n",
    "df_test = df_preprocess[int(0.85*df_preprocess.shape[0])::] #15%"
   ]
  },
  {
   "cell_type": "code",
   "execution_count": 16,
   "metadata": {},
   "outputs": [],
   "source": [
    "x_train = pd.DataFrame.copy(df_train)\n",
    "x_val = pd.DataFrame.copy(df_val)\n",
    "x_test = pd.DataFrame.copy(df_test)\n",
    "\n",
    "y_train = x_train.pop('SalaryNormalized').values.reshape(-1, 1)\n",
    "y_val = x_val.pop('SalaryNormalized').values.reshape(-1, 1)\n",
    "y_test = x_test.pop('SalaryNormalized').values.reshape(-1, 1)\n",
    "\n",
    "x_train = x_train.values.flatten()\n",
    "x_val = x_val.values.flatten()\n",
    "x_test = x_test.values.flatten()"
   ]
  },
  {
   "cell_type": "markdown",
   "metadata": {},
   "source": [
    "Agregamos todas las palabras encontradas en el dataframe a un diccionario, donde cada palabra tendrá su indice. De esta forma se forman vectores para cada frase, formando la matriz embedding."
   ]
  },
  {
   "cell_type": "code",
   "execution_count": 19,
   "metadata": {},
   "outputs": [
    {
     "name": "stdout",
     "output_type": "stream",
     "text": [
      "Number of different words found: 144455\n",
      "Se encontraron 400000 terminos con sus vectores de embedding.\n"
     ]
    }
   ],
   "source": [
    "word_index = dict()\n",
    "j = 0\n",
    "for frase in x_train:\n",
    "    seq=frase.split()\n",
    "    for term in seq:\n",
    "        if term not in word_index.keys():\n",
    "            word_index[term]=j\n",
    "            j+=1\n",
    "print(\"Number of different words found: \"+str(len(word_index)))\n",
    "\n",
    "embeddings_index = {}\n",
    "f = open(os.path.join('glove.txt'))\n",
    "for line in f:\n",
    "    values = line.split()\n",
    "    word = values[0]\n",
    "    coefs = np.asarray(values[1:], dtype='float32')\n",
    "    embeddings_index[word] = coefs\n",
    "f.close()\n",
    "\n",
    "print('Se encontraron %s terminos con sus vectores de embedding.' % len(embeddings_index))\n",
    "\n",
    "embedding_vector=100\n",
    "embedding_matrix = np.zeros((len(word_index.keys()), embedding_vector))   #puede probar otra inicialización\n",
    "\n",
    "for word, i in word_index.items():\n",
    "    embedding_vector = embeddings_index.get(word)\n",
    "    if embedding_vector is not None:\n",
    "        # words sin match en Glove, serán vectores de ceros.\n",
    "        embedding_matrix[i] = embedding_vector  "
   ]
  },
  {
   "cell_type": "markdown",
   "metadata": {},
   "source": [
    "Formamos los nuevos conjuntos de entrenamiento, validación y testing."
   ]
  },
  {
   "cell_type": "code",
   "execution_count": 21,
   "metadata": {},
   "outputs": [],
   "source": [
    "#\"\"\"Definir input para el modelo: \"\"\"\n",
    "x_new_train = [[word_index[word] for word in text.split()] for text in x_train]\n",
    "x_new_val = [[word_index[word] for word in text.split() if word in word_index] for text in x_val]\n",
    "x_new_test = [[word_index[word] for word in text.split() if word in word_index] for text in x_test]"
   ]
  },
  {
   "cell_type": "markdown",
   "metadata": {},
   "source": [
    "Y ajustamos sus tamaños para que todos tengan el mismo shape. Escogimos el max_input_lenght 100 debido a que era una de las opciones más equilibradas que encontramos. Si este era muy grande, el entrenamiento demoraba mucho, y si era muy pequeño, se demora más en converger y baja la calidad de los modelos."
   ]
  },
  {
   "cell_type": "code",
   "execution_count": 22,
   "metadata": {},
   "outputs": [],
   "source": [
    "from keras.preprocessing import sequence\n",
    "max_input_lenght = 100 #modificar este valor en base a su experimentación\n",
    "Xtrain = sequence.pad_sequences(x_new_train,maxlen=max_input_lenght,padding='post',value=0)\n",
    "Xval = sequence.pad_sequences(x_new_val,maxlen=max_input_lenght,padding='post',value=0)\n",
    "Xtest = sequence.pad_sequences(x_new_test,maxlen=max_input_lenght,padding='post',value=0)"
   ]
  },
  {
   "cell_type": "markdown",
   "metadata": {},
   "source": [
    "A continuación se muestran diferentes intentos por llegar al mae 7000"
   ]
  },
  {
   "cell_type": "code",
   "execution_count": 44,
   "metadata": {},
   "outputs": [
    {
     "name": "stdout",
     "output_type": "stream",
     "text": [
      "_________________________________________________________________\n",
      "Layer (type)                 Output Shape              Param #   \n",
      "=================================================================\n",
      "input_4 (InputLayer)         (None, 100)               0         \n",
      "_________________________________________________________________\n",
      "embedding_4 (Embedding)      (None, 100, 100)          14445500  \n",
      "_________________________________________________________________\n",
      "conv1d_19 (Conv1D)           (None, 100, 128)          76928     \n",
      "_________________________________________________________________\n",
      "conv1d_20 (Conv1D)           (None, 100, 128)          98432     \n",
      "_________________________________________________________________\n",
      "max_pooling1d_10 (MaxPooling (None, 50, 128)           0         \n",
      "_________________________________________________________________\n",
      "conv1d_21 (Conv1D)           (None, 50, 128)           98432     \n",
      "_________________________________________________________________\n",
      "conv1d_22 (Conv1D)           (None, 50, 128)           98432     \n",
      "_________________________________________________________________\n",
      "max_pooling1d_11 (MaxPooling (None, 25, 128)           0         \n",
      "_________________________________________________________________\n",
      "conv1d_23 (Conv1D)           (None, 25, 128)           98432     \n",
      "_________________________________________________________________\n",
      "conv1d_24 (Conv1D)           (None, 25, 128)           98432     \n",
      "_________________________________________________________________\n",
      "max_pooling1d_12 (MaxPooling (None, 12, 128)           0         \n",
      "_________________________________________________________________\n",
      "flatten_4 (Flatten)          (None, 1536)              0         \n",
      "_________________________________________________________________\n",
      "dense_7 (Dense)              (None, 512)               786944    \n",
      "_________________________________________________________________\n",
      "dense_8 (Dense)              (None, 1)                 513       \n",
      "=================================================================\n",
      "Total params: 15,802,045\n",
      "Trainable params: 1,356,545\n",
      "Non-trainable params: 14,445,500\n",
      "_________________________________________________________________\n"
     ]
    }
   ],
   "source": [
    "#\"\"\"Define model trough Model API in Keras\"\"\"\n",
    "embedding_vector = 100\n",
    "embedding_layer = keras.layers.Embedding(input_dim=len(word_index.keys()),output_dim=embedding_vector,weights=[embedding_matrix],\n",
    "                     input_length=max_input_lenght,trainable=False)\n",
    "\n",
    "sequence_input = keras.layers.Input(shape=(max_input_lenght,))\n",
    "embedded_sequences = embedding_layer(sequence_input)\n",
    "\n",
    "conv1 = keras.layers.Conv1D(128, 6, activation='relu',padding='same')(embedded_sequences)\n",
    "conv11 = keras.layers.Conv1D(128, 6, activation='relu',padding='same')(conv1)\n",
    "pool1 = keras.layers.MaxPooling1D(pool_size = 2)(conv11)\n",
    "\n",
    "conv2 = keras.layers.Conv1D(128, 6, activation='relu',padding='same')(pool1)\n",
    "conv22 = keras.layers.Conv1D(128, 6, activation='relu',padding='same')(conv2)\n",
    "pool2 = keras.layers.MaxPooling1D(pool_size = 2)(conv22)\n",
    "\n",
    "conv3 = keras.layers.Conv1D(128, 6, activation='relu',padding='same')(pool2)\n",
    "conv33 = keras.layers.Conv1D(128, 6, activation='relu',padding='same')(conv3)\n",
    "pool3 = keras.layers.MaxPooling1D(pool_size = 2)(conv33)\n",
    "\n",
    "flat = keras.layers.Flatten()(pool3)\n",
    "dense1 = keras.layers.Dense(512, activation=\"relu\")(flat)\n",
    "preds = keras.layers.Dense(1, activation = 'linear')(dense1)\n",
    "model4 = keras.models.Model(sequence_input, preds)\n",
    "model4.summary()"
   ]
  },
  {
   "cell_type": "code",
   "execution_count": 45,
   "metadata": {},
   "outputs": [
    {
     "name": "stdout",
     "output_type": "stream",
     "text": [
      "Train on 146860 samples, validate on 61192 samples\n",
      "Epoch 1/25\n",
      "146816/146860 [============================>.] - ETA: 0s - loss: 13339.0377 - acc: 1.3622e-05\n",
      "Testing loss: 10603.724781621942, acc: 0.0\n",
      "\n",
      "146860/146860 [==============================] - 74s - loss: 13339.2168 - acc: 1.3618e-05 - val_loss: 10564.9718 - val_acc: 4.9026e-05\n",
      "Epoch 2/25\n",
      "146816/146860 [============================>.] - ETA: 0s - loss: 10811.6317 - acc: 4.7679e-05\n",
      "Testing loss: 9872.670003476856, acc: 0.0\n",
      "\n",
      "146860/146860 [==============================] - 76s - loss: 10811.5818 - acc: 4.7664e-05 - val_loss: 9693.2893 - val_acc: 4.9026e-05\n",
      "Epoch 3/25\n",
      "146816/146860 [============================>.] - ETA: 0s - loss: 9957.2967 - acc: 5.4490e-05\n",
      "Testing loss: 11130.436280812946, acc: 2.7236082361913064e-05\n",
      "\n",
      "146860/146860 [==============================] - 76s - loss: 9957.7928 - acc: 5.4474e-05 - val_loss: 10833.8222 - val_acc: 4.9026e-05\n",
      "Epoch 4/25\n",
      "146816/146860 [============================>.] - ETA: 0s - loss: 9367.7508 - acc: 2.7245e-05\n",
      "Testing loss: 9584.704021982072, acc: 5.447216472382613e-05\n",
      "\n",
      "146860/146860 [==============================] - 77s - loss: 9367.5088 - acc: 2.7237e-05 - val_loss: 9523.3904 - val_acc: 1.6342e-05\n",
      "Epoch 5/25\n",
      "146816/146860 [============================>.] - ETA: 0s - loss: 8886.6002 - acc: 5.4490e-05\n",
      "Testing loss: 9279.03438675088, acc: 8.170824708573918e-05\n",
      "\n",
      "146860/146860 [==============================] - 77s - loss: 8886.4078 - acc: 5.4474e-05 - val_loss: 9092.8680 - val_acc: 8.1710e-05\n",
      "Epoch 6/25\n",
      "146816/146860 [============================>.] - ETA: 0s - loss: 8504.5597 - acc: 6.1301e-05\n",
      "Testing loss: 10038.422429775592, acc: 0.0\n",
      "\n",
      "146860/146860 [==============================] - 76s - loss: 8504.3289 - acc: 6.1283e-05 - val_loss: 9960.8567 - val_acc: 0.0000e+00\n",
      "Epoch 7/25\n",
      "146688/146860 [============================>.] - ETA: 0s - loss: 8164.2386 - acc: 6.1355e-05\n",
      "Testing loss: 11885.426560191316, acc: 2.7236082361913064e-05\n",
      "\n",
      "146860/146860 [==============================] - 74s - loss: 8163.7694 - acc: 6.1283e-05 - val_loss: 11550.4819 - val_acc: 1.6342e-05\n",
      "Epoch 8/25\n",
      "146688/146860 [============================>.] - ETA: 0s - loss: 7849.5951 - acc: 4.7720e-05\n",
      "Testing loss: 9522.961560631775, acc: 0.0\n",
      "\n",
      "146860/146860 [==============================] - 72s - loss: 7848.8497 - acc: 4.7664e-05 - val_loss: 9425.1245 - val_acc: 4.9026e-05\n",
      "Epoch 9/25\n",
      "146816/146860 [============================>.] - ETA: 0s - loss: 7573.7754 - acc: 8.8546e-05\n",
      "Testing loss: 8588.720537740273, acc: 8.170824708573918e-05\n",
      "\n",
      "146860/146860 [==============================] - 72s - loss: 7573.6956 - acc: 8.8520e-05 - val_loss: 8440.9397 - val_acc: 8.1710e-05\n",
      "Epoch 10/25\n",
      "146688/146860 [============================>.] - ETA: 0s - loss: 7329.9422 - acc: 6.1355e-05\n",
      "Testing loss: 8209.402579592132, acc: 0.0\n",
      "\n",
      "146860/146860 [==============================] - 72s - loss: 7330.4848 - acc: 6.1283e-05 - val_loss: 8134.1450 - val_acc: 1.6342e-05\n",
      "Epoch 11/25\n",
      "146816/146860 [============================>.] - ETA: 0s - loss: 7143.0145 - acc: 8.1735e-05\n",
      "Testing loss: 8189.6799607651465, acc: 8.170824708573918e-05\n",
      "\n",
      "146860/146860 [==============================] - 72s - loss: 7142.8975 - acc: 8.1710e-05 - val_loss: 8116.0087 - val_acc: 4.9026e-05\n",
      "Epoch 12/25\n",
      "146688/146860 [============================>.] - ETA: 0s - loss: 6939.5848 - acc: 6.1355e-05\n",
      "Testing loss: 9869.096906300216, acc: 5.447216472382613e-05\n",
      "\n",
      "146860/146860 [==============================] - 73s - loss: 6940.1111 - acc: 6.1283e-05 - val_loss: 9672.0434 - val_acc: 3.2684e-05\n",
      "Epoch 13/25\n",
      "146816/146860 [============================>.] - ETA: 0s - loss: 6775.2777 - acc: 6.8112e-05\n",
      "Testing loss: 9321.176677753312, acc: 0.0\n",
      "\n",
      "146860/146860 [==============================] - 74s - loss: 6775.5239 - acc: 6.8092e-05 - val_loss: 9308.2561 - val_acc: 4.9026e-05\n",
      "Epoch 14/25\n",
      "146816/146860 [============================>.] - ETA: 0s - loss: 6617.2344 - acc: 4.0867e-05\n",
      "Testing loss: 8317.122861595166, acc: 5.447216472382613e-05\n",
      "\n",
      "146860/146860 [==============================] - 72s - loss: 6617.2296 - acc: 4.0855e-05 - val_loss: 8286.8201 - val_acc: 1.6342e-05\n",
      "Epoch 15/25\n",
      "146688/146860 [============================>.] - ETA: 0s - loss: 6475.5942 - acc: 1.3634e-05\n",
      "Testing loss: 8052.274481620751, acc: 0.0\n",
      "\n",
      "146860/146860 [==============================] - 72s - loss: 6474.6139 - acc: 1.3618e-05 - val_loss: 8022.7475 - val_acc: 9.8052e-05\n",
      "Epoch 16/25\n",
      "146688/146860 [============================>.] - ETA: 0s - loss: 6333.4715 - acc: 1.0908e-04\n",
      "Testing loss: 8873.697940569165, acc: 5.447216472382613e-05\n",
      "\n",
      "146860/146860 [==============================] - 72s - loss: 6333.9555 - acc: 1.0895e-04 - val_loss: 8724.8297 - val_acc: 1.1439e-04\n",
      "Epoch 17/25\n",
      "146816/146860 [============================>.] - ETA: 0s - loss: 6211.3602 - acc: 8.8546e-05\n",
      "Testing loss: 8099.815744338725, acc: 5.447216472382613e-05\n",
      "\n",
      "146860/146860 [==============================] - 72s - loss: 6211.7527 - acc: 8.8520e-05 - val_loss: 8064.8585 - val_acc: 9.8052e-05\n",
      "Epoch 18/25\n",
      "146816/146860 [============================>.] - ETA: 0s - loss: 6076.2339 - acc: 9.5357e-05\n",
      "Testing loss: 8029.595601042886, acc: 8.170824708573918e-05\n",
      "\n",
      "146860/146860 [==============================] - 75s - loss: 6075.9471 - acc: 9.5329e-05 - val_loss: 7939.4497 - val_acc: 1.6342e-05\n",
      "Epoch 19/25\n",
      "146816/146860 [============================>.] - ETA: 0s - loss: 5987.0429 - acc: 8.8546e-05\n",
      "Testing loss: 8749.252430900144, acc: 8.170824708573918e-05\n",
      "\n",
      "146860/146860 [==============================] - 74s - loss: 5987.7958 - acc: 8.8520e-05 - val_loss: 8586.1266 - val_acc: 8.1710e-05\n",
      "Epoch 20/25\n",
      "146816/146860 [============================>.] - ETA: 0s - loss: 5886.7809 - acc: 1.0217e-04\n",
      "Testing loss: 9546.43530430364, acc: 5.447216472382613e-05\n",
      "\n",
      "146860/146860 [==============================] - 74s - loss: 5887.1921 - acc: 1.0214e-04 - val_loss: 9575.9044 - val_acc: 3.2684e-05\n",
      "Epoch 21/25\n",
      "146816/146860 [============================>.] - ETA: 0s - loss: 5790.8101 - acc: 8.1735e-05\n",
      "Testing loss: 8161.225002489548, acc: 5.447216472382613e-05\n",
      "\n",
      "146860/146860 [==============================] - 74s - loss: 5790.5605 - acc: 8.1710e-05 - val_loss: 8092.4322 - val_acc: 8.1710e-05\n",
      "Epoch 22/25\n",
      "146816/146860 [============================>.] - ETA: 0s - loss: 5682.5186 - acc: 7.4924e-05\n",
      "Testing loss: 8329.48735251023, acc: 0.0001361804118095653\n",
      "\n",
      "146860/146860 [==============================] - 73s - loss: 5682.2930 - acc: 7.4901e-05 - val_loss: 8348.5362 - val_acc: 3.2684e-05\n",
      "Epoch 23/25\n",
      "146816/146860 [============================>.] - ETA: 0s - loss: 5574.9920 - acc: 1.0217e-04\n",
      "Testing loss: 8315.656286385703, acc: 0.0\n",
      "\n",
      "146860/146860 [==============================] - 74s - loss: 5575.1239 - acc: 1.0214e-04 - val_loss: 8317.9739 - val_acc: 4.9026e-05\n",
      "Epoch 24/25\n",
      "146816/146860 [============================>.] - ETA: 0s - loss: 5492.6871 - acc: 4.0867e-05\n",
      "Testing loss: 9032.948644371876, acc: 5.447216472382613e-05\n",
      "\n",
      "146860/146860 [==============================] - 75s - loss: 5493.3481 - acc: 4.0855e-05 - val_loss: 8909.4367 - val_acc: 4.9026e-05\n",
      "Epoch 25/25\n",
      "146816/146860 [============================>.] - ETA: 0s - loss: 5383.5408 - acc: 6.1301e-05\n",
      "Testing loss: 8068.336955874142, acc: 8.170824708573918e-05\n",
      "\n",
      "146860/146860 [==============================] - 75s - loss: 5383.5628 - acc: 6.1283e-05 - val_loss: 8079.3308 - val_acc: 6.5368e-05\n"
     ]
    }
   ],
   "source": [
    "model4.compile(loss = 'mae',optimizer='rmsprop',metrics=['acc'])\n",
    "test_loss = []\n",
    "test_acc = []\n",
    "history4 = model4.fit(Xtrain, y_train, validation_data=(Xval, y_val), epochs = 25, batch_size = 128, callbacks=[TestCallback((Xtest, y_test))]).history\n",
    "history4[\"test_loss\"] = test_loss\n",
    "history4[\"test_acc\"] = test_acc\n",
    "pd.DataFrame(history4).to_csv(\"history_4.csv\")"
   ]
  },
  {
   "cell_type": "code",
   "execution_count": 59,
   "metadata": {},
   "outputs": [
    {
     "data": {
      "image/png": "[encoded data removed]",
      "text/plain": [
       "<Figure size 1008x720 with 1 Axes>"
      ]
     },
     "metadata": {
      "needs_background": "light"
     },
     "output_type": "display_data"
    }
   ],
   "source": [
    "plt.figure(figsize=(14, 10))\n",
    "history_4 = pd.read_csv(\"history_4.csv\")\n",
    "plt.ylabel(\"Loss\")\n",
    "plt.plot(range(1, 26), history_4['loss'], '#ff33a3', label = \"Training\")\n",
    "plt.plot(range(1, 26), history_4['val_loss'], '#1300FF', label = \"Validation\")\n",
    "plt.plot(range(1, 26), history_4['test_loss'], '#23D300', label = \"Testing\")\n",
    "plt.grid(True)\n",
    "plt.title(\"Mean absolute Error of CNN\")\n",
    "plt.xlabel(\"Epochs\")\n",
    "plt.legend()\n",
    "plt.show()"
   ]
  },
  {
   "cell_type": "code",
   "execution_count": 60,
   "metadata": {},
   "outputs": [
    {
     "name": "stdout",
     "output_type": "stream",
     "text": [
      "MAE on train:  4727.7412600848065\n",
      "MAE on validation:  8079.333794838059\n",
      "MAE on testing:  8068.336954943221\n"
     ]
    }
   ],
   "source": [
    "print(\"MAE on train: \",mean_absolute_error(y_train, model4.predict(Xtrain)))\n",
    "print(\"MAE on validation: \",mean_absolute_error(y_val, model4.predict(Xval)))\n",
    "print(\"MAE on testing: \", mean_absolute_error(y_test, model4.predict(Xtest)))"
   ]
  },
  {
   "cell_type": "code",
   "execution_count": 50,
   "metadata": {},
   "outputs": [
    {
     "name": "stdout",
     "output_type": "stream",
     "text": [
      "_________________________________________________________________\n",
      "Layer (type)                 Output Shape              Param #   \n",
      "=================================================================\n",
      "input_6 (InputLayer)         (None, 100)               0         \n",
      "_________________________________________________________________\n",
      "embedding_6 (Embedding)      (None, 100, 100)          14445500  \n",
      "_________________________________________________________________\n",
      "conv1d_31 (Conv1D)           (None, 100, 128)          115328    \n",
      "_________________________________________________________________\n",
      "conv1d_32 (Conv1D)           (None, 100, 128)          147584    \n",
      "_________________________________________________________________\n",
      "max_pooling1d_16 (MaxPooling (None, 50, 128)           0         \n",
      "_________________________________________________________________\n",
      "dropout_10 (Dropout)         (None, 50, 128)           0         \n",
      "_________________________________________________________________\n",
      "conv1d_33 (Conv1D)           (None, 50, 128)           147584    \n",
      "_________________________________________________________________\n",
      "conv1d_34 (Conv1D)           (None, 50, 128)           147584    \n",
      "_________________________________________________________________\n",
      "max_pooling1d_17 (MaxPooling (None, 25, 128)           0         \n",
      "_________________________________________________________________\n",
      "dropout_11 (Dropout)         (None, 25, 128)           0         \n",
      "_________________________________________________________________\n",
      "conv1d_35 (Conv1D)           (None, 25, 128)           147584    \n",
      "_________________________________________________________________\n",
      "conv1d_36 (Conv1D)           (None, 25, 128)           147584    \n",
      "_________________________________________________________________\n",
      "max_pooling1d_18 (MaxPooling (None, 12, 128)           0         \n",
      "_________________________________________________________________\n",
      "dropout_12 (Dropout)         (None, 12, 128)           0         \n",
      "_________________________________________________________________\n",
      "flatten_6 (Flatten)          (None, 1536)              0         \n",
      "_________________________________________________________________\n",
      "dense_12 (Dense)             (None, 512)               786944    \n",
      "_________________________________________________________________\n",
      "dense_13 (Dense)             (None, 256)               131328    \n",
      "_________________________________________________________________\n",
      "dense_14 (Dense)             (None, 1)                 257       \n",
      "=================================================================\n",
      "Total params: 16,217,277\n",
      "Trainable params: 1,771,777\n",
      "Non-trainable params: 14,445,500\n",
      "_________________________________________________________________\n"
     ]
    }
   ],
   "source": [
    "#\"\"\"Define model trough Model API in Keras\"\"\"\n",
    "embedding_vector = 100\n",
    "embedding_layer = keras.layers.Embedding(input_dim=len(word_index.keys()),output_dim=embedding_vector,weights=[embedding_matrix],\n",
    "                     input_length=max_input_lenght,trainable=False)\n",
    "\n",
    "sequence_input = keras.layers.Input(shape=(max_input_lenght,))\n",
    "embedded_sequences = embedding_layer(sequence_input)\n",
    "\n",
    "conv1 = keras.layers.Conv1D(128, 9, activation='relu',padding='same', kernel_regularizer = keras.regularizers.l2(0.01))(embedded_sequences)\n",
    "conv11 = keras.layers.Conv1D(128, 9, activation='relu',padding='same', kernel_regularizer = keras.regularizers.l2(0.01))(conv1)\n",
    "pool1 = keras.layers.MaxPooling1D(pool_size = 2)(conv11)\n",
    "drop1 = keras.layers.Dropout(0.25)(pool1)\n",
    "\n",
    "conv2 = keras.layers.Conv1D(128, 9, activation='relu',padding='same', kernel_regularizer = keras.regularizers.l2(0.01))(drop1)\n",
    "conv22 = keras.layers.Conv1D(128, 9, activation='relu',padding='same', kernel_regularizer = keras.regularizers.l2(0.01))(conv2)\n",
    "pool2 = keras.layers.MaxPooling1D(pool_size = 2)(conv22)\n",
    "drop2 = keras.layers.Dropout(0.25)(pool2)\n",
    "\n",
    "conv3 = keras.layers.Conv1D(128, 9, activation='relu',padding='same', kernel_regularizer = keras.regularizers.l2(0.01))(drop2)\n",
    "conv33 = keras.layers.Conv1D(128, 9, activation='relu',padding='same', kernel_regularizer = keras.regularizers.l2(0.01))(conv3)\n",
    "pool3 = keras.layers.MaxPooling1D(pool_size = 2)(conv33)\n",
    "drop3 = keras.layers.Dropout(0.25)(pool3)\n",
    "\n",
    "flat = keras.layers.Flatten()(drop3)\n",
    "dense1 = keras.layers.Dense(512, activation=\"relu\")(flat)\n",
    "dense2 = keras.layers.Dense(256, activation=\"relu\")(dense1)\n",
    "preds = keras.layers.Dense(1, activation = 'linear')(dense2)\n",
    "model3 = keras.models.Model(sequence_input, preds)\n",
    "model3.summary()"
   ]
  },
  {
   "cell_type": "code",
   "execution_count": 51,
   "metadata": {},
   "outputs": [
    {
     "name": "stdout",
     "output_type": "stream",
     "text": [
      "Train on 146860 samples, validate on 61192 samples\n",
      "Epoch 1/25\n",
      "146816/146860 [============================>.] - ETA: 0s - loss: 13791.2011 - acc: 4.0867e-05\n",
      "Testing loss: 17418.198461033677, acc: 5.447216472382613e-05\n",
      "\n",
      "146860/146860 [==============================] - 80s - loss: 13790.5917 - acc: 4.0855e-05 - val_loss: 17012.7798 - val_acc: 3.2684e-05\n",
      "Epoch 2/25\n",
      "146816/146860 [============================>.] - ETA: 0s - loss: 10855.8507 - acc: 2.7245e-05\n",
      "Testing loss: 10531.887587538471, acc: 0.0\n",
      "\n",
      "146860/146860 [==============================] - 77s - loss: 10855.7899 - acc: 2.7237e-05 - val_loss: 10446.7774 - val_acc: 6.5368e-05\n",
      "Epoch 3/25\n",
      "146816/146860 [============================>.] - ETA: 0s - loss: 10086.2978 - acc: 2.7245e-05\n",
      "Testing loss: 9933.225899205643, acc: 5.447216472382613e-05\n",
      "\n",
      "146860/146860 [==============================] - 78s - loss: 10086.9911 - acc: 2.7237e-05 - val_loss: 9871.3501 - val_acc: 4.9026e-05\n",
      "Epoch 4/25\n",
      "146816/146860 [============================>.] - ETA: 0s - loss: 9572.8876 - acc: 7.4924e-05\n",
      "Testing loss: 10923.37185678587, acc: 2.7236082361913064e-05\n",
      "\n",
      "146860/146860 [==============================] - 79s - loss: 9572.8147 - acc: 7.4901e-05 - val_loss: 10955.0153 - val_acc: 3.2684e-05\n",
      "Epoch 5/25\n",
      "146816/146860 [============================>.] - ETA: 0s - loss: 9150.7704 - acc: 3.4056e-05\n",
      "Testing loss: 12723.950966859646, acc: 0.0\n",
      "\n",
      "146860/146860 [==============================] - 77s - loss: 9150.3423 - acc: 3.4046e-05 - val_loss: 12314.7787 - val_acc: 1.6342e-05\n",
      "Epoch 6/25\n",
      "146816/146860 [============================>.] - ETA: 0s - loss: 8772.9103 - acc: 4.7679e-05\n",
      "Testing loss: 9351.761781307876, acc: 5.447216472382613e-05\n",
      "\n",
      "146860/146860 [==============================] - 79s - loss: 8773.5809 - acc: 4.7664e-05 - val_loss: 9280.8142 - val_acc: 3.2684e-05\n",
      "Epoch 7/25\n",
      "146816/146860 [============================>.] - ETA: 0s - loss: 8473.7620 - acc: 2.0434e-05\n",
      "Testing loss: 9000.554720481194, acc: 2.7236082361913064e-05\n",
      "\n",
      "146860/146860 [==============================] - 79s - loss: 8474.1580 - acc: 2.0428e-05 - val_loss: 8858.2185 - val_acc: 3.2684e-05\n",
      "Epoch 8/25\n",
      "146816/146860 [============================>.] - ETA: 0s - loss: 8186.7072 - acc: 6.1301e-05\n",
      "Testing loss: 9652.544652280341, acc: 0.0\n",
      "\n",
      "146860/146860 [==============================] - 79s - loss: 8186.7257 - acc: 6.1283e-05 - val_loss: 9675.0679 - val_acc: 3.2684e-05\n",
      "Epoch 9/25\n",
      "146816/146860 [============================>.] - ETA: 0s - loss: 7939.5273 - acc: 4.7679e-05\n",
      "Testing loss: 8815.045198331874, acc: 0.0\n",
      "\n",
      "146860/146860 [==============================] - 78s - loss: 7939.0311 - acc: 4.7664e-05 - val_loss: 8577.6365 - val_acc: 8.1710e-05\n",
      "Epoch 10/25\n",
      "146816/146860 [============================>.] - ETA: 0s - loss: 7673.0826 - acc: 4.0867e-05\n",
      "Testing loss: 8382.723761173178, acc: 0.0\n",
      "\n",
      "146860/146860 [==============================] - 75s - loss: 7673.8488 - acc: 4.0855e-05 - val_loss: 8210.6783 - val_acc: 6.5368e-05\n",
      "Epoch 11/25\n",
      "146816/146860 [============================>.] - ETA: 0s - loss: 7458.8826 - acc: 8.1735e-05\n",
      "Testing loss: 8335.750177247317, acc: 8.170824708573918e-05\n",
      "\n",
      "146860/146860 [==============================] - 77s - loss: 7458.8317 - acc: 8.1710e-05 - val_loss: 8161.7296 - val_acc: 4.9026e-05\n",
      "Epoch 12/25\n",
      "146816/146860 [============================>.] - ETA: 0s - loss: 7264.3900 - acc: 6.8112e-05\n",
      "Testing loss: 8433.444753149597, acc: 8.170824708573918e-05\n",
      "\n",
      "146860/146860 [==============================] - 77s - loss: 7263.8958 - acc: 6.8092e-05 - val_loss: 8230.8744 - val_acc: 4.9026e-05\n",
      "Epoch 13/25\n",
      "146816/146860 [============================>.] - ETA: 0s - loss: 7060.1556 - acc: 9.5357e-05\n",
      "Testing loss: 9189.520271332023, acc: 8.170824708573918e-05\n",
      "\n",
      "146860/146860 [==============================] - 78s - loss: 7061.2485 - acc: 9.5329e-05 - val_loss: 9126.0200 - val_acc: 1.6342e-05\n",
      "Epoch 14/25\n",
      "146816/146860 [============================>.] - ETA: 0s - loss: 6873.7835 - acc: 7.4924e-05\n",
      "Testing loss: 9282.9642408857, acc: 5.447216472382613e-05\n",
      "\n",
      "146860/146860 [==============================] - 77s - loss: 6873.7913 - acc: 7.4901e-05 - val_loss: 9036.4547 - val_acc: 4.9026e-05\n",
      "Epoch 15/25\n",
      "146816/146860 [============================>.] - ETA: 0s - loss: 6701.9529 - acc: 9.5357e-05\n",
      "Testing loss: 8356.392979963606, acc: 5.447216472382613e-05\n",
      "\n",
      "146860/146860 [==============================] - 77s - loss: 6701.4280 - acc: 9.5329e-05 - val_loss: 8279.0139 - val_acc: 1.6342e-05\n",
      "Epoch 16/25\n",
      "146816/146860 [============================>.] - ETA: 0s - loss: 6546.9072 - acc: 1.0898e-04\n",
      "Testing loss: 8857.643491970037, acc: 0.0\n",
      "\n",
      "146860/146860 [==============================] - 77s - loss: 6547.0205 - acc: 1.0895e-04 - val_loss: 8696.3965 - val_acc: 9.8052e-05\n",
      "Epoch 17/25\n",
      "146816/146860 [============================>.] - ETA: 0s - loss: 6403.0611 - acc: 6.1301e-05\n",
      "Testing loss: 8358.088629031367, acc: 8.170824708573918e-05\n",
      "\n",
      "146860/146860 [==============================] - 77s - loss: 6402.4112 - acc: 6.1283e-05 - val_loss: 8289.3924 - val_acc: 4.9026e-05\n",
      "Epoch 18/25\n",
      "146816/146860 [============================>.] - ETA: 0s - loss: 6250.6887 - acc: 6.8112e-05\n",
      "Testing loss: 8882.55538143495, acc: 2.7236082361913064e-05\n",
      "\n",
      "146860/146860 [==============================] - 79s - loss: 6251.1714 - acc: 6.8092e-05 - val_loss: 8901.9079 - val_acc: 8.1710e-05\n",
      "Epoch 19/25\n",
      "146816/146860 [============================>.] - ETA: 0s - loss: 6112.1987 - acc: 7.4924e-05\n",
      "Testing loss: 8862.045159073616, acc: 0.00010894432944765226\n",
      "\n",
      "146860/146860 [==============================] - 76s - loss: 6112.4676 - acc: 7.4901e-05 - val_loss: 8801.7269 - val_acc: 1.6342e-05\n",
      "Epoch 20/25\n",
      "146816/146860 [============================>.] - ETA: 0s - loss: 6002.6370 - acc: 8.1735e-05\n",
      "Testing loss: 8312.69090504225, acc: 8.170824708573918e-05\n",
      "\n",
      "146860/146860 [==============================] - 77s - loss: 6003.0905 - acc: 8.1710e-05 - val_loss: 8342.3302 - val_acc: 4.9026e-05\n",
      "Epoch 21/25\n",
      "146816/146860 [============================>.] - ETA: 0s - loss: 5867.9828 - acc: 1.2260e-04\n",
      "Testing loss: 8091.818382541629, acc: 5.447216472382613e-05\n",
      "\n",
      "146860/146860 [==============================] - 76s - loss: 5868.0937 - acc: 1.2257e-04 - val_loss: 8052.6208 - val_acc: 4.9026e-05\n",
      "Epoch 22/25\n",
      "146816/146860 [============================>.] - ETA: 0s - loss: 5744.4692 - acc: 9.5357e-05\n",
      "Testing loss: 8305.527759339635, acc: 0.0\n",
      "\n",
      "146860/146860 [==============================] - 79s - loss: 5744.1541 - acc: 9.5329e-05 - val_loss: 8267.1847 - val_acc: 4.9026e-05\n",
      "Epoch 23/25\n",
      "146816/146860 [============================>.] - ETA: 0s - loss: 5625.8086 - acc: 8.1735e-05\n",
      "Testing loss: 8540.482829458717, acc: 2.7236082361913064e-05\n",
      "\n",
      "146860/146860 [==============================] - 80s - loss: 5625.9426 - acc: 8.1710e-05 - val_loss: 8602.6447 - val_acc: 1.3074e-04\n",
      "Epoch 24/25\n",
      "146816/146860 [============================>.] - ETA: 0s - loss: 5518.9936 - acc: 4.7679e-05\n",
      "Testing loss: 9059.612289686376, acc: 2.7236082361913064e-05\n",
      "\n",
      "146860/146860 [==============================] - 79s - loss: 5519.2464 - acc: 4.7664e-05 - val_loss: 9074.2630 - val_acc: 4.9026e-05\n",
      "Epoch 25/25\n",
      "146816/146860 [============================>.] - ETA: 0s - loss: 5397.0459 - acc: 9.5357e-05\n",
      "Testing loss: 8891.804868311414, acc: 5.447216472382613e-05\n",
      "\n",
      "146860/146860 [==============================] - 76s - loss: 5397.6907 - acc: 9.5329e-05 - val_loss: 8803.9926 - val_acc: 4.9026e-05\n"
     ]
    }
   ],
   "source": [
    "model5.compile(loss = 'mae',optimizer='rmsprop',metrics=['acc'])\n",
    "test_loss = []\n",
    "test_acc = []\n",
    "history5 = model5.fit(Xtrain, y_train, validation_data=(Xval, y_val), epochs = 25, batch_size = 128, callbacks=[TestCallback((Xtest, y_test))]).history\n",
    "history5[\"test_loss\"] = test_loss\n",
    "history5[\"test_acc\"] = test_acc\n",
    "pd.DataFrame(history5).to_csv(\"history_5.csv\")"
   ]
  },
  {
   "cell_type": "code",
   "execution_count": 55,
   "metadata": {},
   "outputs": [
    {
     "data": {
      "image/png": "[encoded data removed]",
      "text/plain": [
       "<Figure size 1008x720 with 1 Axes>"
      ]
     },
     "metadata": {
      "needs_background": "light"
     },
     "output_type": "display_data"
    }
   ],
   "source": [
    "plt.figure(figsize=(14, 10))\n",
    "history_5 = pd.read_csv(\"history_5.csv\")\n",
    "plt.ylabel(\"Loss\")\n",
    "plt.plot(range(1, 26), history_5['loss'], '#ff33a3', label = \"Training\")\n",
    "plt.plot(range(1, 26), history_5['val_loss'], '#1300FF', label = \"Validation\")\n",
    "plt.plot(range(1, 26), history_5['test_loss'], '#23D300', label = \"Testing\")\n",
    "plt.grid(True)\n",
    "plt.title(\"Mean absolute Error of CNN\")\n",
    "plt.xlabel(\"Epochs\")\n",
    "plt.legend()\n",
    "plt.show()"
   ]
  },
  {
   "cell_type": "code",
   "execution_count": 56,
   "metadata": {},
   "outputs": [
    {
     "name": "stdout",
     "output_type": "stream",
     "text": [
      "MAE on train:  6239.601763152141\n",
      "MAE on validation:  8803.986596188151\n",
      "MAE on testing:  8891.80487070521\n"
     ]
    }
   ],
   "source": [
    "print(\"MAE on train: \",mean_absolute_error(y_train, model5.predict(Xtrain)))\n",
    "print(\"MAE on validation: \",mean_absolute_error(y_val, model5.predict(Xval)))\n",
    "print(\"MAE on testing: \", mean_absolute_error(y_test, model5.predict(Xtest)))"
   ]
  },
  {
   "cell_type": "markdown",
   "metadata": {},
   "source": [
    "Podemos observar que en el modelo 4 se obtuvo un menor error que en el modelo 5, pero esta al no estar regularizada no estaba convergiendo, si no que se mantenia constante dentro de un rango, a diferencia del modelo 5 que se nota su convergencia al mirar el gráfico."
   ]
  }
 ],
 "metadata": {
  "kernelspec": {
   "display_name": "Python 3",
   "language": "python",
   "name": "python3"
  },
  "language_info": {
   "codemirror_mode": {
    "name": "ipython",
    "version": 3
   },
   "file_extension": ".py",
   "mimetype": "text/x-python",
   "name": "python",
   "nbconvert_exporter": "python",
   "pygments_lexer": "ipython3",
   "version": "3.6.6"
  }
 },
 "nbformat": 4,
 "nbformat_minor": 2
}
